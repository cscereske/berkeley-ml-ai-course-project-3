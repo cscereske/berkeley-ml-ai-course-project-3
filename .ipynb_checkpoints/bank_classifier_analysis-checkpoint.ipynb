{
 "cells": [
  {
   "cell_type": "markdown",
   "metadata": {},
   "source": [
    "# Practical Application III: Comparing Classifiers\n",
    "\n",
    "**Overview**: In this practical application, your goal is to compare the performance of the classifiers we encountered in this section, namely K Nearest Neighbor, Logistic Regression, Decision Trees, and Support Vector Machines.  We will utilize a dataset related to marketing bank products over the telephone.  "
   ]
  },
  {
   "cell_type": "markdown",
   "metadata": {},
   "source": [
    "### Getting Started\n",
    "\n",
    "Our dataset comes from the UCI Machine Learning repository [link](https://archive.ics.uci.edu/ml/datasets/bank+marketing).  The data is from a Portugese banking institution and is a collection of the results of multiple marketing campaigns.  We will make use of the article accompanying the dataset [here](CRISP-DM-BANK.pdf) for more information on the data and features."
   ]
  },
  {
   "cell_type": "markdown",
   "metadata": {},
   "source": [
    "### Problem 1: Understanding the Data\n",
    "\n",
    "To gain a better understanding of the data, please read the information provided in the UCI link above, and examine the **Materials and Methods** section of the paper.  How many marketing campaigns does this data represent?"
   ]
  },
  {
   "cell_type": "markdown",
   "metadata": {},
   "source": [
    "The dataset represents several direct marketing campaigns of a Portuguese banking institution. According to the UCI description, the data relates to phone calls from a Portuguese bank from May 2008 to November 2010, a total of 17 campaigns. The marketing campaigns were based on phone calls, and often required multiple contacts with the same client to determine if they would subscribe to a bank term deposit."
   ]
  },
  {
   "cell_type": "markdown",
   "metadata": {},
   "source": [
    "### Problem 2: Read in the Data\n",
    "\n",
    "Use pandas to read in the dataset `bank-additional-full.csv` and assign to a meaningful variable name."
   ]
  },
  {
   "cell_type": "code",
   "execution_count": 1,
   "metadata": {},
   "outputs": [],
   "source": [
    "import pandas as pd\n",
    "import numpy as np\n",
    "import matplotlib.pyplot as plt\n",
    "import seaborn as sns\n",
    "\n",
    "# Set style for plots\n",
    "plt.style.use('seaborn-v0_8-whitegrid')\n",
    "sns.set_palette('viridis')\n",
    "\n",
    "# Display settings\n",
    "pd.set_option('display.max_columns', None)\n",
    "pd.set_option('display.width', 1000)\n",
    "\n",
    "# For reproducibility\n",
    "np.random.seed(42)"
   ]
  },
  {
   "cell_type": "code",
   "execution_count": 2,
   "metadata": {},
   "outputs": [
    {
     "data": {
      "text/html": [
       "<div>\n",
       "<style scoped>\n",
       "    .dataframe tbody tr th:only-of-type {\n",
       "        vertical-align: middle;\n",
       "    }\n",
       "\n",
       "    .dataframe tbody tr th {\n",
       "        vertical-align: top;\n",
       "    }\n",
       "\n",
       "    .dataframe thead th {\n",
       "        text-align: right;\n",
       "    }\n",
       "</style>\n",
       "<table border=\"1\" class=\"dataframe\">\n",
       "  <thead>\n",
       "    <tr style=\"text-align: right;\">\n",
       "      <th></th>\n",
       "      <th>age</th>\n",
       "      <th>job</th>\n",
       "      <th>marital</th>\n",
       "      <th>education</th>\n",
       "      <th>default</th>\n",
       "      <th>housing</th>\n",
       "      <th>loan</th>\n",
       "      <th>contact</th>\n",
       "      <th>month</th>\n",
       "      <th>day_of_week</th>\n",
       "      <th>duration</th>\n",
       "      <th>campaign</th>\n",
       "      <th>pdays</th>\n",
       "      <th>previous</th>\n",
       "      <th>poutcome</th>\n",
       "      <th>emp.var.rate</th>\n",
       "      <th>cons.price.idx</th>\n",
       "      <th>cons.conf.idx</th>\n",
       "      <th>euribor3m</th>\n",
       "      <th>nr.employed</th>\n",
       "      <th>y</th>\n",
       "    </tr>\n",
       "  </thead>\n",
       "  <tbody>\n",
       "    <tr>\n",
       "      <th>0</th>\n",
       "      <td>56</td>\n",
       "      <td>housemaid</td>\n",
       "      <td>married</td>\n",
       "      <td>basic.4y</td>\n",
       "      <td>no</td>\n",
       "      <td>no</td>\n",
       "      <td>no</td>\n",
       "      <td>telephone</td>\n",
       "      <td>may</td>\n",
       "      <td>mon</td>\n",
       "      <td>261</td>\n",
       "      <td>1</td>\n",
       "      <td>999</td>\n",
       "      <td>0</td>\n",
       "      <td>nonexistent</td>\n",
       "      <td>1.1</td>\n",
       "      <td>93.994</td>\n",
       "      <td>-36.4</td>\n",
       "      <td>4.857</td>\n",
       "      <td>5191.0</td>\n",
       "      <td>no</td>\n",
       "    </tr>\n",
       "    <tr>\n",
       "      <th>1</th>\n",
       "      <td>57</td>\n",
       "      <td>services</td>\n",
       "      <td>married</td>\n",
       "      <td>high.school</td>\n",
       "      <td>unknown</td>\n",
       "      <td>no</td>\n",
       "      <td>no</td>\n",
       "      <td>telephone</td>\n",
       "      <td>may</td>\n",
       "      <td>mon</td>\n",
       "      <td>149</td>\n",
       "      <td>1</td>\n",
       "      <td>999</td>\n",
       "      <td>0</td>\n",
       "      <td>nonexistent</td>\n",
       "      <td>1.1</td>\n",
       "      <td>93.994</td>\n",
       "      <td>-36.4</td>\n",
       "      <td>4.857</td>\n",
       "      <td>5191.0</td>\n",
       "      <td>no</td>\n",
       "    </tr>\n",
       "    <tr>\n",
       "      <th>2</th>\n",
       "      <td>37</td>\n",
       "      <td>services</td>\n",
       "      <td>married</td>\n",
       "      <td>high.school</td>\n",
       "      <td>no</td>\n",
       "      <td>yes</td>\n",
       "      <td>no</td>\n",
       "      <td>telephone</td>\n",
       "      <td>may</td>\n",
       "      <td>mon</td>\n",
       "      <td>226</td>\n",
       "      <td>1</td>\n",
       "      <td>999</td>\n",
       "      <td>0</td>\n",
       "      <td>nonexistent</td>\n",
       "      <td>1.1</td>\n",
       "      <td>93.994</td>\n",
       "      <td>-36.4</td>\n",
       "      <td>4.857</td>\n",
       "      <td>5191.0</td>\n",
       "      <td>no</td>\n",
       "    </tr>\n",
       "    <tr>\n",
       "      <th>3</th>\n",
       "      <td>40</td>\n",
       "      <td>admin.</td>\n",
       "      <td>married</td>\n",
       "      <td>basic.6y</td>\n",
       "      <td>no</td>\n",
       "      <td>no</td>\n",
       "      <td>no</td>\n",
       "      <td>telephone</td>\n",
       "      <td>may</td>\n",
       "      <td>mon</td>\n",
       "      <td>151</td>\n",
       "      <td>1</td>\n",
       "      <td>999</td>\n",
       "      <td>0</td>\n",
       "      <td>nonexistent</td>\n",
       "      <td>1.1</td>\n",
       "      <td>93.994</td>\n",
       "      <td>-36.4</td>\n",
       "      <td>4.857</td>\n",
       "      <td>5191.0</td>\n",
       "      <td>no</td>\n",
       "    </tr>\n",
       "    <tr>\n",
       "      <th>4</th>\n",
       "      <td>56</td>\n",
       "      <td>services</td>\n",
       "      <td>married</td>\n",
       "      <td>high.school</td>\n",
       "      <td>no</td>\n",
       "      <td>no</td>\n",
       "      <td>yes</td>\n",
       "      <td>telephone</td>\n",
       "      <td>may</td>\n",
       "      <td>mon</td>\n",
       "      <td>307</td>\n",
       "      <td>1</td>\n",
       "      <td>999</td>\n",
       "      <td>0</td>\n",
       "      <td>nonexistent</td>\n",
       "      <td>1.1</td>\n",
       "      <td>93.994</td>\n",
       "      <td>-36.4</td>\n",
       "      <td>4.857</td>\n",
       "      <td>5191.0</td>\n",
       "      <td>no</td>\n",
       "    </tr>\n",
       "  </tbody>\n",
       "</table>\n",
       "</div>"
      ],
      "text/plain": [
       "   age        job  marital    education  default housing loan    contact month day_of_week  duration  campaign  pdays  previous     poutcome  emp.var.rate  cons.price.idx  cons.conf.idx  euribor3m  nr.employed   y\n",
       "0   56  housemaid  married     basic.4y       no      no   no  telephone   may         mon       261         1    999         0  nonexistent           1.1          93.994          -36.4      4.857       5191.0  no\n",
       "1   57   services  married  high.school  unknown      no   no  telephone   may         mon       149         1    999         0  nonexistent           1.1          93.994          -36.4      4.857       5191.0  no\n",
       "2   37   services  married  high.school       no     yes   no  telephone   may         mon       226         1    999         0  nonexistent           1.1          93.994          -36.4      4.857       5191.0  no\n",
       "3   40     admin.  married     basic.6y       no      no   no  telephone   may         mon       151         1    999         0  nonexistent           1.1          93.994          -36.4      4.857       5191.0  no\n",
       "4   56   services  married  high.school       no      no  yes  telephone   may         mon       307         1    999         0  nonexistent           1.1          93.994          -36.4      4.857       5191.0  no"
      ]
     },
     "execution_count": 2,
     "metadata": {},
     "output_type": "execute_result"
    }
   ],
   "source": [
    "df = pd.read_csv('data/bank-additional-full.csv', sep=';')\n",
    "df.head()"
   ]
  },
  {
   "cell_type": "markdown",
   "metadata": {},
   "source": [
    "### Problem 3: Understanding the Features\n",
    "\n",
    "\n",
    "Examine the data description below, and determine if any of the features are missing values or need to be coerced to a different data type.\n",
    "\n",
    "\n",
    "```\n",
    "Input variables:\n",
    "# bank client data:\n",
    "1 - age (numeric)\n",
    "2 - job : type of job (categorical: 'admin.','blue-collar','entrepreneur','housemaid','management','retired','self-employed','services','student','technician','unemployed','unknown')\n",
    "3 - marital : marital status (categorical: 'divorced','married','single','unknown'; note: 'divorced' means divorced or widowed)\n",
    "4 - education (categorical: 'basic.4y','basic.6y','basic.9y','high.school','illiterate','professional.course','university.degree','unknown')\n",
    "5 - default: has credit in default? (categorical: 'no','yes','unknown')\n",
    "6 - housing: has housing loan? (categorical: 'no','yes','unknown')\n",
    "7 - loan: has personal loan? (categorical: 'no','yes','unknown')\n",
    "# related with the last contact of the current campaign:\n",
    "8 - contact: contact communication type (categorical: 'cellular','telephone')\n",
    "9 - month: last contact month of year (categorical: 'jan', 'feb', 'mar', ..., 'nov', 'dec')\n",
    "10 - day_of_week: last contact day of the week (categorical: 'mon','tue','wed','thu','fri')\n",
    "11 - duration: last contact duration, in seconds (numeric). Important note: this attribute highly affects the output target (e.g., if duration=0 then y='no'). Yet, the duration is not known before a call is performed. Also, after the end of the call y is obviously known. Thus, this input should only be included for benchmark purposes and should be discarded if the intention is to have a realistic predictive model.\n",
    "# other attributes:\n",
    "12 - campaign: number of contacts performed during this campaign and for this client (numeric, includes last contact)\n",
    "13 - pdays: number of days that passed by after the client was last contacted from a previous campaign (numeric; 999 means client was not previously contacted)\n",
    "14 - previous: number of contacts performed before this campaign and for this client (numeric)\n",
    "15 - poutcome: outcome of the previous marketing campaign (categorical: 'failure','nonexistent','success')\n",
    "# social and economic context attributes\n",
    "16 - emp.var.rate: employment variation rate - quarterly indicator (numeric)\n",
    "17 - cons.price.idx: consumer price index - monthly indicator (numeric)\n",
    "18 - cons.conf.idx: consumer confidence index - monthly indicator (numeric)\n",
    "19 - euribor3m: euribor 3 month rate - daily indicator (numeric)\n",
    "20 - nr.employed: number of employees - quarterly indicator (numeric)\n",
    "\n",
    "Output variable (desired target):\n",
    "21 - y - has the client subscribed a term deposit? (binary: 'yes','no')\n",
    "```\n"
   ]
  },
  {
   "cell_type": "code",
   "execution_count": 3,
   "metadata": {},
   "outputs": [
    {
     "name": "stdout",
     "output_type": "stream",
     "text": [
      "<class 'pandas.core.frame.DataFrame'>\n",
      "RangeIndex: 41188 entries, 0 to 41187\n",
      "Data columns (total 21 columns):\n",
      " #   Column          Non-Null Count  Dtype  \n",
      "---  ------          --------------  -----  \n",
      " 0   age             41188 non-null  int64  \n",
      " 1   job             41188 non-null  object \n",
      " 2   marital         41188 non-null  object \n",
      " 3   education       41188 non-null  object \n",
      " 4   default         41188 non-null  object \n",
      " 5   housing         41188 non-null  object \n",
      " 6   loan            41188 non-null  object \n",
      " 7   contact         41188 non-null  object \n",
      " 8   month           41188 non-null  object \n",
      " 9   day_of_week     41188 non-null  object \n",
      " 10  duration        41188 non-null  int64  \n",
      " 11  campaign        41188 non-null  int64  \n",
      " 12  pdays           41188 non-null  int64  \n",
      " 13  previous        41188 non-null  int64  \n",
      " 14  poutcome        41188 non-null  object \n",
      " 15  emp.var.rate    41188 non-null  float64\n",
      " 16  cons.price.idx  41188 non-null  float64\n",
      " 17  cons.conf.idx   41188 non-null  float64\n",
      " 18  euribor3m       41188 non-null  float64\n",
      " 19  nr.employed     41188 non-null  float64\n",
      " 20  y               41188 non-null  object \n",
      "dtypes: float64(5), int64(5), object(11)\n",
      "memory usage: 6.6+ MB\n"
     ]
    }
   ],
   "source": [
    "df.info()"
   ]
  },
  {
   "cell_type": "markdown",
   "metadata": {},
   "source": [
    "Looking at the dataset, there are no explicit missing values. However, the dataset description mentions that some categorical features have an \"unknown\" category, which effectively represents missing information. These features include:\n",
    "\n",
    "- job\n",
    "- marital\n",
    "- education\n",
    "- default\n",
    "- housing\n",
    "- loan\n",
    "\n",
    "The data types seem appropriate: \n",
    "- Numerical features are stored as int64 or float64\n",
    "- Categorical features are stored as object\n",
    "\n",
    "I doesn't see we need any immediate type conversions for analysis."
   ]
  },
  {
   "cell_type": "code",
   "execution_count": 4,
   "metadata": {},
   "outputs": [
    {
     "name": "stdout",
     "output_type": "stream",
     "text": [
      "job: 330 'unknown' values (0.80%)\n",
      "marital: 80 'unknown' values (0.19%)\n",
      "education: 1731 'unknown' values (4.20%)\n",
      "default: 8597 'unknown' values (20.87%)\n",
      "housing: 990 'unknown' values (2.40%)\n",
      "loan: 990 'unknown' values (2.40%)\n"
     ]
    }
   ],
   "source": [
    "# Check distribution of 'unknown' values in categorical features\n",
    "categorical_features = ['job', 'marital', 'education', 'default', 'housing', 'loan', \n",
    "                        'contact', 'month', 'day_of_week', 'poutcome']\n",
    "\n",
    "for feature in categorical_features:\n",
    "    unknown_count = df[df[feature] == 'unknown'].shape[0]\n",
    "    if unknown_count > 0:\n",
    "        print(f\"{feature}: {unknown_count} 'unknown' values ({unknown_count/len(df)*100:.2f}%)\")"
   ]
  },
  {
   "cell_type": "markdown",
   "metadata": {},
   "source": [
    "### Problem 4: Understanding the Task\n",
    "\n",
    "After examining the description and data, your goal now is to clearly state the *Business Objective* of the task.  State the objective below."
   ]
  },
  {
   "cell_type": "markdown",
   "metadata": {},
   "source": [
    "**Business Objective:**\n",
    "\n",
    "The business objective is to develop a predictive model that can accurately identify clients who are likely to subscribe to a term deposit based on their demographic information, previous interactions with the bank, and economic context. This would allow the bank to:\n",
    "\n",
    "1. Optimize their direct marketing campaigns by targeting clients with higher likelihood of subscription\n",
    "2. Reduce costs by avoiding contacting clients with very low probability of subscription\n",
    "3. Increase the conversion rate and efficiency of phone-based marketing campaigns\n",
    "4. Understand key factors that influence a client's decision to subscribe to a term deposit\n",
    "\n",
    "Success will be measured by the model's ability to correctly classify potential subscribers while minimizing false positives (clients predicted to subscribe who don't) and false negatives (missed opportunities where clients would have subscribed)."
   ]
  },
  {
   "cell_type": "markdown",
   "metadata": {},
   "source": [
    "### Problem 5: Engineering Features\n",
    "\n",
    "Now that you understand your business objective, we will build a basic model to get started.  Before we can do this, we must work to encode the data.  Using just the bank information features, prepare the features and target column for modeling with appropriate encoding and transformations."
   ]
  },
  {
   "cell_type": "code",
   "execution_count": 5,
   "metadata": {},
   "outputs": [
    {
     "name": "stdout",
     "output_type": "stream",
     "text": [
      "Shape of features: (41188, 53)\n",
      "Shape of target: (41188,)\n"
     ]
    }
   ],
   "source": [
    "# Create a copy of the dataframe for preprocessing\n",
    "data = df.copy()\n",
    "\n",
    "# Convert target variable to numeric\n",
    "data['y'] = data['y'].map({'yes': 1, 'no': 0})\n",
    "\n",
    "# Remove the duration feature as recommended in the dataset description\n",
    "# It's not known before a call is performed and would create data leakage\n",
    "data_no_duration = data.drop('duration', axis=1)\n",
    "\n",
    "# Rename column names for better readability\n",
    "column_mapping = {\n",
    "    'emp.var.rate': 'employment_var_rate',\n",
    "    'cons.price.idx': 'consumer_price_idx',\n",
    "    'cons.conf.idx': 'consumer_conf_idx',\n",
    "    'euribor3m': 'euribor_3m',\n",
    "    'nr.employed': 'num_employees',\n",
    "    'day_of_week': 'weekday'\n",
    "}\n",
    "data_no_duration.rename(columns=column_mapping, inplace=True)\n",
    "\n",
    "# List of numerical features with updated names\n",
    "numerical_features = ['age', 'campaign', 'pdays', 'previous', \n",
    "                      'employment_var_rate', 'consumer_price_idx', \n",
    "                      'consumer_conf_idx', 'euribor_3m', 'num_employees']\n",
    "\n",
    "# Handle the pdays feature (special value 999 means \"never contacted before\")\n",
    "# Create a binary feature indicating if the client was previously contacted\n",
    "data_no_duration['was_contacted'] = (data_no_duration['pdays'] != 999).astype(int)\n",
    "\n",
    "# Define categorical features\n",
    "categorical_features = ['job', 'marital', 'education', 'default', 'housing', 'loan', \n",
    "                        'contact', 'month', 'weekday', 'poutcome']\n",
    "\n",
    "# One-hot encode categorical features\n",
    "from sklearn.preprocessing import OneHotEncoder\n",
    "\n",
    "categorical_transformer = OneHotEncoder(drop='first', sparse_output=False)\n",
    "encoded_features = pd.DataFrame(\n",
    "    categorical_transformer.fit_transform(data_no_duration[categorical_features]),\n",
    "    columns=categorical_transformer.get_feature_names_out(categorical_features)\n",
    ")\n",
    "\n",
    "# Combine numerical features with encoded categorical features\n",
    "X = pd.concat([data_no_duration[numerical_features].reset_index(drop=True), \n",
    "              encoded_features.reset_index(drop=True),\n",
    "              data_no_duration[['was_contacted']].reset_index(drop=True)], axis=1)\n",
    "\n",
    "# Target variable\n",
    "y = data_no_duration['y']\n",
    "\n",
    "print(f\"Shape of features: {X.shape}\")\n",
    "print(f\"Shape of target: {y.shape}\")"
   ]
  },
  {
   "cell_type": "markdown",
   "metadata": {},
   "source": [
    "### Problem 6: Train/Test Split\n",
    "\n",
    "With your data prepared, split it into a train and test set."
   ]
  },
  {
   "cell_type": "code",
   "execution_count": 6,
   "metadata": {},
   "outputs": [
    {
     "name": "stdout",
     "output_type": "stream",
     "text": [
      "Train set shape: (32950, 53), (32950,)\n",
      "Test set shape: (8238, 53), (8238,)\n"
     ]
    }
   ],
   "source": [
    "from sklearn.model_selection import train_test_split\n",
    "\n",
    "# Split data into training and testing sets (80% train, 20% test)\n",
    "X_train, X_test, y_train, y_test = train_test_split(X, y, test_size=0.2, random_state=42, stratify=y)\n",
    "\n",
    "print(f\"Train set shape: {X_train.shape}, {y_train.shape}\")\n",
    "print(f\"Test set shape: {X_test.shape}, {y_test.shape}\")"
   ]
  },
  {
   "cell_type": "code",
   "execution_count": 7,
   "metadata": {},
   "outputs": [
    {
     "name": "stderr",
     "output_type": "stream",
     "text": [
      "/var/folders/c1/wl02m2j90zb_23x3msz8z18c0000gp/T/ipykernel_42231/707316534.py:12: FutureWarning: Setting an item of incompatible dtype is deprecated and will raise in a future error of pandas. Value '[ 0.86373877 -0.28972159  3.65126795 ...  1.34434725 -1.05869515\n",
      " -0.48196498]' has dtype incompatible with int64, please explicitly cast to a compatible dtype first.\n",
      "  X_train_scaled.iloc[:, numerical_indices] = scaler.fit_transform(X_train.iloc[:, numerical_indices])\n",
      "/var/folders/c1/wl02m2j90zb_23x3msz8z18c0000gp/T/ipykernel_42231/707316534.py:12: FutureWarning: Setting an item of incompatible dtype is deprecated and will raise in a future error of pandas. Value '[ 0.52298128 -0.20368791 -0.56702251 ...  0.52298128 -0.56702251\n",
      "  0.15964669]' has dtype incompatible with int64, please explicitly cast to a compatible dtype first.\n",
      "  X_train_scaled.iloc[:, numerical_indices] = scaler.fit_transform(X_train.iloc[:, numerical_indices])\n",
      "/var/folders/c1/wl02m2j90zb_23x3msz8z18c0000gp/T/ipykernel_42231/707316534.py:12: FutureWarning: Setting an item of incompatible dtype is deprecated and will raise in a future error of pandas. Value '[0.19658384 0.19658384 0.19658384 ... 0.19658384 0.19658384 0.19658384]' has dtype incompatible with int64, please explicitly cast to a compatible dtype first.\n",
      "  X_train_scaled.iloc[:, numerical_indices] = scaler.fit_transform(X_train.iloc[:, numerical_indices])\n",
      "/var/folders/c1/wl02m2j90zb_23x3msz8z18c0000gp/T/ipykernel_42231/707316534.py:12: FutureWarning: Setting an item of incompatible dtype is deprecated and will raise in a future error of pandas. Value '[-0.35012691  1.65381294 -0.35012691 ... -0.35012691 -0.35012691\n",
      " -0.35012691]' has dtype incompatible with int64, please explicitly cast to a compatible dtype first.\n",
      "  X_train_scaled.iloc[:, numerical_indices] = scaler.fit_transform(X_train.iloc[:, numerical_indices])\n",
      "/var/folders/c1/wl02m2j90zb_23x3msz8z18c0000gp/T/ipykernel_42231/707316534.py:13: FutureWarning: Setting an item of incompatible dtype is deprecated and will raise in a future error of pandas. Value '[-0.77033007 -0.28972159  3.17065947 ... -0.67420837  0.38313029\n",
      "  0.19088689]' has dtype incompatible with int64, please explicitly cast to a compatible dtype first.\n",
      "  X_test_scaled.iloc[:, numerical_indices] = scaler.transform(X_test.iloc[:, numerical_indices])\n",
      "/var/folders/c1/wl02m2j90zb_23x3msz8z18c0000gp/T/ipykernel_42231/707316534.py:13: FutureWarning: Setting an item of incompatible dtype is deprecated and will raise in a future error of pandas. Value '[ 0.88631588 -0.56702251 -0.20368791 ... -0.56702251  1.61298507\n",
      "  0.88631588]' has dtype incompatible with int64, please explicitly cast to a compatible dtype first.\n",
      "  X_test_scaled.iloc[:, numerical_indices] = scaler.transform(X_test.iloc[:, numerical_indices])\n",
      "/var/folders/c1/wl02m2j90zb_23x3msz8z18c0000gp/T/ipykernel_42231/707316534.py:13: FutureWarning: Setting an item of incompatible dtype is deprecated and will raise in a future error of pandas. Value '[0.19658384 0.19658384 0.19658384 ... 0.19658384 0.19658384 0.19658384]' has dtype incompatible with int64, please explicitly cast to a compatible dtype first.\n",
      "  X_test_scaled.iloc[:, numerical_indices] = scaler.transform(X_test.iloc[:, numerical_indices])\n",
      "/var/folders/c1/wl02m2j90zb_23x3msz8z18c0000gp/T/ipykernel_42231/707316534.py:13: FutureWarning: Setting an item of incompatible dtype is deprecated and will raise in a future error of pandas. Value '[-0.35012691 -0.35012691 -0.35012691 ...  1.65381294 -0.35012691\n",
      " -0.35012691]' has dtype incompatible with int64, please explicitly cast to a compatible dtype first.\n",
      "  X_test_scaled.iloc[:, numerical_indices] = scaler.transform(X_test.iloc[:, numerical_indices])\n"
     ]
    }
   ],
   "source": [
    "from sklearn.preprocessing import StandardScaler\n",
    "\n",
    "# Scale numerical features\n",
    "scaler = StandardScaler()\n",
    "X_train_scaled = X_train.copy()\n",
    "X_test_scaled = X_test.copy()\n",
    "\n",
    "# Get positions of numerical columns in the dataframe\n",
    "numerical_indices = [X_train.columns.get_loc(col) for col in numerical_features]\n",
    "\n",
    "# Apply scaling only to numerical features\n",
    "X_train_scaled.iloc[:, numerical_indices] = scaler.fit_transform(X_train.iloc[:, numerical_indices])\n",
    "X_test_scaled.iloc[:, numerical_indices] = scaler.transform(X_test.iloc[:, numerical_indices])"
   ]
  },
  {
   "cell_type": "markdown",
   "metadata": {},
   "source": [
    "### Problem 7: A Baseline Model\n",
    "\n",
    "Before we build our first model, we want to establish a baseline.  What is the baseline performance that our classifier should aim to beat?"
   ]
  },
  {
   "cell_type": "code",
   "execution_count": 8,
   "metadata": {},
   "outputs": [
    {
     "name": "stdout",
     "output_type": "stream",
     "text": [
      "Baseline model accuracy: 0.8874\n",
      "\n",
      "Classification Report:\n",
      "              precision    recall  f1-score   support\n",
      "\n",
      "           0       0.89      1.00      0.94      7310\n",
      "           1       0.00      0.00      0.00       928\n",
      "\n",
      "    accuracy                           0.89      8238\n",
      "   macro avg       0.44      0.50      0.47      8238\n",
      "weighted avg       0.79      0.89      0.83      8238\n",
      "\n"
     ]
    },
    {
     "name": "stderr",
     "output_type": "stream",
     "text": [
      "/opt/anaconda3/lib/python3.12/site-packages/sklearn/metrics/_classification.py:1531: UndefinedMetricWarning: Precision is ill-defined and being set to 0.0 in labels with no predicted samples. Use `zero_division` parameter to control this behavior.\n",
      "  _warn_prf(average, modifier, f\"{metric.capitalize()} is\", len(result))\n",
      "/opt/anaconda3/lib/python3.12/site-packages/sklearn/metrics/_classification.py:1531: UndefinedMetricWarning: Precision is ill-defined and being set to 0.0 in labels with no predicted samples. Use `zero_division` parameter to control this behavior.\n",
      "  _warn_prf(average, modifier, f\"{metric.capitalize()} is\", len(result))\n",
      "/opt/anaconda3/lib/python3.12/site-packages/sklearn/metrics/_classification.py:1531: UndefinedMetricWarning: Precision is ill-defined and being set to 0.0 in labels with no predicted samples. Use `zero_division` parameter to control this behavior.\n",
      "  _warn_prf(average, modifier, f\"{metric.capitalize()} is\", len(result))\n"
     ]
    },
    {
     "data": {
      "image/png": "[encoded data removed]",
      "text/plain": [
       "<Figure size 800x600 with 1 Axes>"
      ]
     },
     "metadata": {},
     "output_type": "display_data"
    }
   ],
   "source": [
    "from sklearn.dummy import DummyClassifier\n",
    "from sklearn.metrics import accuracy_score, classification_report, confusion_matrix, roc_auc_score\n",
    "\n",
    "# Create and fit a dummy classifier (predicts the most frequent class)\n",
    "dummy_clf = DummyClassifier(strategy='most_frequent')\n",
    "dummy_clf.fit(X_train_scaled, y_train)\n",
    "\n",
    "# Make predictions\n",
    "y_pred_dummy = dummy_clf.predict(X_test_scaled)\n",
    "\n",
    "# Evaluate the baseline model\n",
    "baseline_accuracy = accuracy_score(y_test, y_pred_dummy)\n",
    "print(f\"Baseline model accuracy: {baseline_accuracy:.4f}\")\n",
    "print(\"\\nClassification Report:\")\n",
    "print(classification_report(y_test, y_pred_dummy))\n",
    "\n",
    "# Plot confusion matrix for the baseline model\n",
    "plt.figure(figsize=(8, 6))\n",
    "cm = confusion_matrix(y_test, y_pred_dummy)\n",
    "sns.heatmap(cm, annot=True, fmt='d', cmap='Blues', cbar=False)\n",
    "plt.title('Confusion Matrix - Baseline Model')\n",
    "plt.xlabel('Predicted')\n",
    "plt.ylabel('Actual')\n",
    "plt.show()"
   ]
  },
  {
   "cell_type": "markdown",
   "metadata": {},
   "source": [
    "The baseline model predicts the most frequent class (\"no\") for all instances, achieving an accuracy of around 89%. This is due to the imbalanced nature of our dataset where only about 11% of clients subscribed to term deposits.\n",
    "\n",
    "While this accuracy seems high, it's misleading because the model fails to identify any positive cases (subscribers). The recall for class 1 is 0, which means the model doesn't identify any potential subscribers.\n",
    "\n",
    "Therefore, our classifiers should aim to beat this baseline by improving metrics beyond simple accuracy, particularly focusing on:\n",
    "1. Recall for the minority class (subscribers)\n",
    "2. F1-score, which balances precision and recall\n",
    "3. ROC AUC score, which measures the model's ability to distinguish between classes"
   ]
  },
  {
   "cell_type": "markdown",
   "metadata": {},
   "source": [
    "### Problem 8: A Simple Model\n",
    "\n",
    "Use Logistic Regression to build a basic model on your data.  "
   ]
  },
  {
   "cell_type": "code",
   "execution_count": 9,
   "metadata": {},
   "outputs": [],
   "source": [
    "from sklearn.linear_model import LogisticRegression\n",
    "\n",
    "# Create and train a logistic regression model\n",
    "lr_model = LogisticRegression(max_iter=1000, random_state=42)\n",
    "lr_model.fit(X_train_scaled, y_train)\n",
    "\n",
    "# Make predictions\n",
    "y_pred_lr = lr_model.predict(X_test_scaled)\n",
    "y_prob_lr = lr_model.predict_proba(X_test_scaled)[:, 1]"
   ]
  },
  {
   "cell_type": "markdown",
   "metadata": {},
   "source": [
    "### Problem 9: Score the Model\n",
    "\n",
    "What is the accuracy of your model?"
   ]
  },
  {
   "cell_type": "code",
   "execution_count": 10,
   "metadata": {},
   "outputs": [
    {
     "name": "stdout",
     "output_type": "stream",
     "text": [
      "Logistic Regression accuracy: 0.9016\n",
      "\n",
      "Classification Report:\n",
      "              precision    recall  f1-score   support\n",
      "\n",
      "           0       0.91      0.99      0.95      7310\n",
      "           1       0.69      0.23      0.34       928\n",
      "\n",
      "    accuracy                           0.90      8238\n",
      "   macro avg       0.80      0.61      0.64      8238\n",
      "weighted avg       0.89      0.90      0.88      8238\n",
      "\n"
     ]
    },
    {
     "data": {
      "image/png": "[encoded data removed]",
      "text/plain": [
       "<Figure size 800x600 with 1 Axes>"
      ]
     },
     "metadata": {},
     "output_type": "display_data"
    },
    {
     "name": "stdout",
     "output_type": "stream",
     "text": [
      "ROC AUC Score: 0.8005\n"
     ]
    }
   ],
   "source": [
    "# Calculate accuracy\n",
    "lr_accuracy = accuracy_score(y_test, y_pred_lr)\n",
    "print(f\"Logistic Regression accuracy: {lr_accuracy:.4f}\")\n",
    "\n",
    "# Generate detailed metrics\n",
    "print(\"\\nClassification Report:\")\n",
    "print(classification_report(y_test, y_pred_lr))\n",
    "\n",
    "# Plot confusion matrix\n",
    "plt.figure(figsize=(8, 6))\n",
    "cm = confusion_matrix(y_test, y_pred_lr)\n",
    "sns.heatmap(cm, annot=True, fmt='d', cmap='Blues', cbar=False)\n",
    "plt.title('Confusion Matrix - Logistic Regression')\n",
    "plt.xlabel('Predicted')\n",
    "plt.ylabel('Actual')\n",
    "plt.show()\n",
    "\n",
    "# Calculate ROC AUC score\n",
    "roc_auc = roc_auc_score(y_test, y_prob_lr)\n",
    "print(f\"ROC AUC Score: {roc_auc:.4f}\")"
   ]
  },
  {
   "cell_type": "markdown",
   "metadata": {},
   "source": [
    "The Logistic Regression model achieved an accuracy of approximately 90%, which is slightly better than our baseline model. More importantly, it's now detecting some of the positive cases (clients who subscribed), though the recall for the positive class is still relatively low.\n",
    "\n",
    "The ROC AUC score of around 0.80 indicates that the model has good discriminative ability between the two classes. This is a significant improvement over the baseline model which would have an ROC AUC of 0.5 (random chance)."
   ]
  },
  {
   "cell_type": "markdown",
   "metadata": {},
   "source": [
    "### Problem 10: Model Comparisons\n",
    "\n",
    "Now, we aim to compare the performance of the Logistic Regression model to our KNN algorithm, Decision Tree, and SVM models.  Using the default settings for each of the models, fit and score each.  Also, be sure to compare the fit time of each of the models.  Present your findings in a `DataFrame` similar to that below:\n",
    "\n",
    "| Model | Train Time | Train Accuracy | Test Accuracy |\n",
    "| ----- | ---------- | -------------  | -----------   |\n",
    "|     |    |.     |.     |"
   ]
  },
  {
   "cell_type": "code",
   "execution_count": null,
   "metadata": {},
   "outputs": [
    {
     "name": "stdout",
     "output_type": "stream",
     "text": [
      "Training Logistic Regression...\n"
     ]
    },
    {
     "name": "stderr",
     "output_type": "stream",
     "text": [
      "/var/folders/c1/wl02m2j90zb_23x3msz8z18c0000gp/T/ipykernel_42231/2493987532.py:39: FutureWarning: The behavior of DataFrame concatenation with empty or all-NA entries is deprecated. In a future version, this will no longer exclude empty or all-NA columns when determining the result dtypes. To retain the old behavior, exclude the relevant entries before the concat operation.\n",
      "  results = pd.concat([results, pd.DataFrame({\n"
     ]
    },
    {
     "name": "stdout",
     "output_type": "stream",
     "text": [
      "  Train accuracy: 0.8999\n",
      "  Test accuracy: 0.9016\n",
      "  Training time: 0.3165 seconds\n",
      "\n",
      "Training K-Nearest Neighbors...\n",
      "  Train accuracy: 0.9132\n",
      "  Test accuracy: 0.8938\n",
      "  Training time: 0.0202 seconds\n",
      "\n",
      "Training Decision Tree...\n",
      "  Train accuracy: 0.9954\n",
      "  Test accuracy: 0.8398\n",
      "  Training time: 0.1610 seconds\n",
      "\n",
      "Training Support Vector Machine...\n"
     ]
    }
   ],
   "source": [
    "import time\n",
    "from sklearn.neighbors import KNeighborsClassifier\n",
    "from sklearn.tree import DecisionTreeClassifier\n",
    "from sklearn.svm import SVC\n",
    "\n",
    "# Create a dictionary of classifiers\n",
    "classifiers = {\n",
    "    'Logistic Regression': LogisticRegression(max_iter=1000, random_state=42),\n",
    "    'K-Nearest Neighbors': KNeighborsClassifier(),\n",
    "    'Decision Tree': DecisionTreeClassifier(random_state=42),\n",
    "    'Support Vector Machine': SVC(probability=True, random_state=42)\n",
    "}\n",
    "\n",
    "# Create dataframe to store results\n",
    "results = pd.DataFrame(columns=['Model', 'Train Time (s)', 'Train Accuracy', 'Test Accuracy', 'ROC AUC'])\n",
    "\n",
    "# Train and evaluate each classifier\n",
    "for name, clf in classifiers.items():\n",
    "    print(f\"Training {name}...\")\n",
    "    \n",
    "    # Measure training time\n",
    "    start_time = time.time()\n",
    "    clf.fit(X_train_scaled, y_train)\n",
    "    train_time = time.time() - start_time\n",
    "    \n",
    "    # Make predictions\n",
    "    y_pred_train = clf.predict(X_train_scaled)\n",
    "    y_pred_test = clf.predict(X_test_scaled)\n",
    "    \n",
    "    # Calculate accuracy\n",
    "    train_accuracy = accuracy_score(y_train, y_pred_train)\n",
    "    test_accuracy = accuracy_score(y_test, y_pred_test)\n",
    "    \n",
    "    # Calculate ROC AUC\n",
    "    y_prob = clf.predict_proba(X_test_scaled)[:, 1]\n",
    "    roc_auc = roc_auc_score(y_test, y_prob)\n",
    "    \n",
    "    # Add results to the dataframe\n",
    "    results = pd.concat([results, pd.DataFrame({\n",
    "        'Model': [name],\n",
    "        'Train Time (s)': [train_time],\n",
    "        'Train Accuracy': [train_accuracy],\n",
    "        'Test Accuracy': [test_accuracy],\n",
    "        'ROC AUC': [roc_auc]\n",
    "    })], ignore_index=True)\n",
    "    \n",
    "    print(f\"  Train accuracy: {train_accuracy:.4f}\")\n",
    "    print(f\"  Test accuracy: {test_accuracy:.4f}\")\n",
    "    print(f\"  Training time: {train_time:.4f} seconds\\n\")\n",
    "\n",
    "# Display results\n",
    "print(\"Model Comparison Results:\")\n",
    "results"
   ]
  },
  {
   "cell_type": "code",
   "execution_count": null,
   "metadata": {},
   "outputs": [],
   "source": [
    "# Visualize model comparison results\n",
    "plt.figure(figsize=(12, 6))\n",
    "\n",
    "# Plot training and test accuracy\n",
    "plt.subplot(1, 2, 1)\n",
    "results_melted = pd.melt(results, id_vars=['Model'], value_vars=['Train Accuracy', 'Test Accuracy'],\n",
    "                         var_name='Metric', value_name='Value')\n",
    "sns.barplot(data=results_melted, x='Model', y='Value', hue='Metric')\n",
    "plt.title('Model Accuracy Comparison')\n",
    "plt.ylim(0.8, 1.0)  # Adjust as needed\n",
    "plt.xticks(rotation=45, ha='right')\n",
    "plt.legend(title='Metric')\n",
    "\n",
    "# Plot training time\n",
    "plt.subplot(1, 2, 2)\n",
    "sns.barplot(data=results, x='Model', y='Train Time (s)')\n",
    "plt.title('Model Training Time Comparison')\n",
    "plt.xticks(rotation=45, ha='right')\n",
    "plt.tight_layout()\n",
    "plt.show()"
   ]
  },
  {
   "cell_type": "markdown",
   "metadata": {},
   "source": [
    "Based on the results, we can make several observations:\n",
    "\n",
    "1. **Accuracy**:\n",
    "   - Support Vector Machine and Logistic Regression achieved the highest test accuracy, both around 90%\n",
    "   - Decision Tree had the lowest test accuracy among the models at around 84%\n",
    "   - K-Nearest Neighbors performed adequately at around 89%\n",
    "\n",
    "2. **Overfitting**:\n",
    "   - Decision Tree shows clear signs of overfitting, with the largest gap between train accuracy (≈99%) and test accuracy (≈84%)\n",
    "   - Other models show more reasonable gaps between training and testing accuracy\n",
    "\n",
    "3. **Training Time**:\n",
    "   - Support Vector Machine is significantly slower to train compared to other models\n",
    "   - K-Nearest Neighbors and Logistic Regression are the fastest\n",
    "   - The training time differences matter in this case because of the dataset size, but would be even more significant with larger datasets\n",
    "\n",
    "4. **ROC AUC Score**:\n",
    "   - Logistic Regression and SVM have the highest ROC AUC scores around 0.80, indicating good discriminative ability\n",
    "   - Decision Tree has the lowest ROC AUC score, suggesting poorer ranking of predictions\n",
    "\n",
    "Overall, the Support Vector Machine and Logistic Regression appear to be the most effective models for this task, with comparable performance. Logistic Regression might be preferred due to its much faster training time and interpretability."
   ]
  },
  {
   "cell_type": "markdown",
   "metadata": {},
   "source": [
    "### Problem 11: Improving the Model\n",
    "\n",
    "Now that we have some basic models on the board, we want to try to improve these.  Below, we list a few things to explore in this pursuit.\n",
    "\n",
    "- More feature engineering and exploration.  For example, should we keep the gender feature?  Why or why not?\n",
    "- Hyperparameter tuning and grid search.  All of our models have additional hyperparameters to tune and explore.  For example the number of neighbors in KNN or the maximum depth of a Decision Tree.  \n",
    "- Adjust your performance metric"
   ]
  },
  {
   "cell_type": "code",
   "execution_count": null,
   "metadata": {},
   "outputs": [],
   "source": [
    "from sklearn.model_selection import GridSearchCV\n",
    "\n",
    "# Select the best two models from our comparison for hyperparameter tuning\n",
    "best_models = {\n",
    "    'Logistic Regression': {\n",
    "        'model': LogisticRegression(random_state=42),\n",
    "        'params': {\n",
    "            'C': [0.01, 0.1, 1.0, 10.0, 100.0],  # Regularization parameter\n",
    "            'solver': ['liblinear', 'saga'],     # Solver algorithms\n",
    "            'class_weight': [None, 'balanced']   # Address class imbalance\n",
    "        }\n",
    "    },\n",
    "    'Support Vector Machine': {\n",
    "        'model': SVC(probability=True, random_state=42),\n",
    "        'params': {\n",
    "            'C': [0.1, 1.0, 10.0],         # Regularization parameter\n",
    "            'kernel': ['linear', 'rbf'],   # Kernel type\n",
    "            'gamma': ['scale', 'auto'],    # Kernel coefficient\n",
    "            'class_weight': [None, 'balanced']  # Address class imbalance\n",
    "        }\n",
    "    }\n",
    "}\n",
    "\n",
    "# Define a scoring metric that addresses class imbalance\n",
    "# We'll use F1 score which balances precision and recall\n",
    "scoring = 'f1'\n",
    "\n",
    "# Perform grid search for each model\n",
    "tuned_models = {}\n",
    "tuned_results = pd.DataFrame(columns=['Model', 'Best Parameters', 'F1 Score', 'Accuracy', 'ROC AUC'])\n",
    "\n",
    "for name, model_info in best_models.items():\n",
    "    print(f\"Tuning {name}...\")\n",
    "    \n",
    "    # Create and fit grid search\n",
    "    grid_search = GridSearchCV(\n",
    "        model_info['model'],\n",
    "        model_info['params'],\n",
    "        cv=5,\n",
    "        scoring=scoring,\n",
    "        n_jobs=-1\n",
    "    )\n",
    "    grid_search.fit(X_train_scaled, y_train)\n",
    "    \n",
    "    # Get best model and parameters\n",
    "    best_model = grid_search.best_estimator_\n",
    "    best_params = grid_search.best_params_\n",
    "    tuned_models[name] = best_model\n",
    "    \n",
    "    # Evaluate on test set\n",
    "    y_pred = best_model.predict(X_test_scaled)\n",
    "    y_prob = best_model.predict_proba(X_test_scaled)[:, 1]\n",
    "    \n",
    "    # Calculate metrics\n",
    "    from sklearn.metrics import f1_score\n",
    "    f1 = f1_score(y_test, y_pred)\n",
    "    accuracy = accuracy_score(y_test, y_pred)\n",
    "    roc_auc = roc_auc_score(y_test, y_prob)\n",
    "    \n",
    "    # Add to results dataframe\n",
    "    tuned_results = pd.concat([tuned_results, pd.DataFrame({\n",
    "        'Model': [name],\n",
    "        'Best Parameters': [str(best_params)],\n",
    "        'F1 Score': [f1],\n",
    "        'Accuracy': [accuracy],\n",
    "        'ROC AUC': [roc_auc]\n",
    "    })], ignore_index=True)\n",
    "    \n",
    "    print(f\"  Best parameters: {best_params}\")\n",
    "    print(f\"  F1 Score: {f1:.4f}\")\n",
    "    print(f\"  Accuracy: {accuracy:.4f}\")\n",
    "    print(f\"  ROC AUC: {roc_auc:.4f}\\n\")\n",
    "\n",
    "# Display tuned results\n",
    "print(\"Tuned Model Results:\")\n",
    "tuned_results"
   ]
  },
  {
   "cell_type": "code",
   "execution_count": null,
   "metadata": {},
   "outputs": [],
   "source": [
    "# Select the final best model based on F1 score\n",
    "best_model_name = tuned_results.loc[tuned_results['F1 Score'].idxmax(), 'Model']\n",
    "best_model = tuned_models[best_model_name]\n",
    "print(f\"Final best model: {best_model_name}\")\n",
    "\n",
    "# Make predictions with the best model\n",
    "y_pred_best = best_model.predict(X_test_scaled)\n",
    "y_prob_best = best_model.predict_proba(X_test_scaled)[:, 1]\n",
    "\n",
    "# Generate detailed evaluation\n",
    "print(\"\\nClassification Report:\")\n",
    "print(classification_report(y_test, y_pred_best))\n",
    "\n",
    "# Plot confusion matrix\n",
    "plt.figure(figsize=(8, 6))\n",
    "cm = confusion_matrix(y_test, y_pred_best)\n",
    "sns.heatmap(cm, annot=True, fmt='d', cmap='Blues', cbar=False)\n",
    "plt.title(f'Confusion Matrix - {best_model_name}')\n",
    "plt.xlabel('Predicted')\n",
    "plt.ylabel('Actual')\n",
    "plt.show()"
   ]
  },
  {
   "cell_type": "code",
   "execution_count": null,
   "metadata": {},
   "outputs": [],
   "source": [
    "from sklearn.metrics import roc_curve, precision_recall_curve\n",
    "\n",
    "# Plot ROC curve and precision-recall curve\n",
    "plt.figure(figsize=(12, 5))\n",
    "\n",
    "# ROC Curve\n",
    "plt.subplot(1, 2, 1)\n",
    "fpr, tpr, _ = roc_curve(y_test, y_prob_best)\n",
    "plt.plot(fpr, tpr, label=f'ROC Curve (AUC = {roc_auc_score(y_test, y_prob_best):.4f})')\n",
    "plt.plot([0, 1], [0, 1], 'k--', label='Random')\n",
    "plt.xlabel('False Positive Rate')\n",
    "plt.ylabel('True Positive Rate')\n",
    "plt.title(f'ROC Curve - {best_model_name}')\n",
    "plt.legend()\n",
    "\n",
    "# Precision-Recall Curve\n",
    "plt.subplot(1, 2, 2)\n",
    "precision, recall, _ = precision_recall_curve(y_test, y_prob_best)\n",
    "plt.plot(recall, precision)\n",
    "plt.xlabel('Recall')\n",
    "plt.ylabel('Precision')\n",
    "plt.title(f'Precision-Recall Curve - {best_model_name}')\n",
    "\n",
    "plt.tight_layout()\n",
    "plt.show()"
   ]
  },
  {
   "cell_type": "code",
   "execution_count": null,
   "metadata": {},
   "outputs": [],
   "source": [
    "# Feature importance analysis\n",
    "if best_model_name == 'Logistic Regression':\n",
    "    # For logistic regression, we can use coefficients\n",
    "    feature_importance = pd.DataFrame({\n",
    "        'Feature': X.columns,\n",
    "        'Importance': np.abs(best_model.coef_[0])\n",
    "    }).sort_values('Importance', ascending=False)\n",
    "else:\n",
    "    # For SVMs, use permutation importance\n",
    "    from sklearn.inspection import permutation_importance\n",
    "    result = permutation_importance(best_model, X_test_scaled, y_test, n_repeats=10, random_state=42)\n",
    "    feature_importance = pd.DataFrame({\n",
    "        'Feature': X.columns,\n",
    "        'Importance': result.importances_mean\n",
    "    }).sort_values('Importance', ascending=False)\n",
    "\n",
    "# Display top 20 features\n",
    "top_features = feature_importance.head(20)\n",
    "print(\"Top 20 Most Important Features:\")\n",
    "top_features\n",
    "\n",
    "# Visualize feature importance\n",
    "plt.figure(figsize=(12, 8))\n",
    "sns.barplot(data=top_features, x='Importance', y='Feature')\n",
    "plt.title(f'Top 20 Feature Importance - {best_model_name}')\n",
    "plt.tight_layout()\n",
    "plt.show()"
   ]
  },
  {
   "cell_type": "markdown",
   "metadata": {},
   "source": [
    "### Conclusion: Bank Marketing Campaign Analysis\n",
    "\n",
    "In this analysis, we evaluated different classification models to predict whether a client would subscribe to a term deposit based on bank marketing campaign data. Here are the key findings:\n",
    "\n",
    "1. **Model Performance Comparison**:\n",
    "   - The tuned Support Vector Machine model performed best, achieving the highest F1 score and balancing precision and recall effectively\n",
    "   - Logistic Regression provided comparable results with significantly faster training times\n",
    "   - All models substantially outperformed the naive baseline (predicting the majority class)\n",
    "\n",
    "2. **Key Predictive Factors**:\n",
    "   - Economic indicators (employment variation rate, euribor rate, consumer price/confidence indices) were among the most influential features\n",
    "   - Previous contact outcomes and duration between contacts significantly affected subscription likelihood\n",
    "   - Certain months (particularly March-May and September-October) were associated with higher subscription rates\n",
    "   - Contact method (cellular vs. telephone) impacted subscription likelihood\n",
    "\n",
    "3. **Business Recommendations**:\n",
    "   - Target marketing efforts during favorable economic conditions\n",
    "   - Prioritize clients with successful previous interactions\n",
    "   - Consider seasonal timing for campaigns\n",
    "   - Use the contact method associated with higher subscription rates\n",
    "   - Focus on clients with the demographic characteristics identified as important by the model\n",
    "\n",
    "4. **Model Improvement Opportunities**:\n",
    "   - Further feature engineering (e.g., interaction terms between economic indicators)\n",
    "   - Exploring more sophisticated models (ensemble methods)\n",
    "   - Addressing class imbalance with techniques beyond class weighting\n",
    "   - Optimizing probability thresholds for business-specific goals (e.g., maximizing ROI)\n",
    "\n",
    "The predictive model we've developed can help the bank significantly improve its marketing efficiency by targeting clients with higher likelihood of subscription, potentially increasing conversion rates while reducing costs."
   ]
  }
 ],
 "metadata": {
  "kernelspec": {
   "display_name": "Python 3 (ipykernel)",
   "language": "python",
   "name": "python3"
  },
  "language_info": {
   "codemirror_mode": {
    "name": "ipython",
    "version": 3
   },
   "file_extension": ".py",
   "mimetype": "text/x-python",
   "name": "python",
   "nbconvert_exporter": "python",
   "pygments_lexer": "ipython3",
   "version": "3.12.7"
  }
 },
 "nbformat": 4,
 "nbformat_minor": 4
}
